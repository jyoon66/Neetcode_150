{
 "cells": [
  {
   "cell_type": "markdown",
   "metadata": {},
   "source": [
    "### Duplicate Integer\n",
    "\n",
    "#### Easy\n",
    "Given an integer array `nums`, return `true` if any value appears **more than once** in the array, otherwise return `false`.\n",
    "\n",
    "**Example 1:**\n",
    "```\n",
    "Input: nums = [1, 2, 3, 3]\n",
    "\n",
    "Output: true\n",
    "```\n",
    "\n",
    "**Example 2:**\n",
    "```\n",
    "Input: nums = [1, 2, 3, 4]\n",
    "\n",
    "Output: false\n",
    "```"
   ]
  },
  {
   "cell_type": "code",
   "execution_count": null,
   "metadata": {},
   "outputs": [],
   "source": [
    "# class Solution:\n",
    "#     def hasDuplicate(self, nums: List[int]) -> bool:\n",
    "#         hashset = set()\n",
    "\n",
    "#         for n in nums:\n",
    "#             if n in hashset:\n",
    "#                 return True\n",
    "#             hashset.add(n)\n",
    "#         return False"
   ]
  },
  {
   "cell_type": "code",
   "execution_count": 15,
   "metadata": {},
   "outputs": [],
   "source": [
    "def hasDuplicate(nums):\n",
    "    hashset = set()\n",
    "\n",
    "    for n in nums:\n",
    "        if n in hashset:\n",
    "            return True\n",
    "        hashset.add(n)\n",
    "    return False"
   ]
  },
  {
   "cell_type": "code",
   "execution_count": 17,
   "metadata": {},
   "outputs": [
    {
     "data": {
      "text/plain": [
       "True"
      ]
     },
     "execution_count": 17,
     "metadata": {},
     "output_type": "execute_result"
    }
   ],
   "source": [
    "hasDuplicate(nums=[1,2,3,3])"
   ]
  },
  {
   "cell_type": "code",
   "execution_count": 18,
   "metadata": {},
   "outputs": [
    {
     "data": {
      "text/plain": [
       "False"
      ]
     },
     "execution_count": 18,
     "metadata": {},
     "output_type": "execute_result"
    }
   ],
   "source": [
    "hasDuplicate(nums=[1,2,3,4])"
   ]
  },
  {
   "cell_type": "markdown",
   "metadata": {},
   "source": [
    "### General Overview\n",
    "This solution uses a hash set to keep track of the numbers seen so far. If a number already exists in the set, it return `True` indicating a duplicate. If no duplicates are found, it returns `False`. The time complexity is **O(n)** because set operations (insertion and lookup) are on average **O(1)**.\n",
    "\n",
    "\n",
    "### Code Breakdown\n",
    "1. Method Definition:\n",
    "```\n",
    "def hasDuplicate(self, nums: List[int]) -> bool:\n",
    "```\n",
    "* The function `hasDuplicate` takes one argument:\n",
    "    * `nums`: A list of integers (List[int])\n",
    "* The function returns a boolean (`bool`), either `True` if a duplicate is found or `False` if no duplicates are found.\n",
    "2. Using a Set to track unique elements:\n",
    "```\n",
    "hashset = set()\n",
    "```\n",
    "* A set (`hashset`) is initialized to store unique numbers as you iterate through the list\n",
    "* A set is chosen because checking if an element is in a set and adding elements to a set both have and average time complexity of **O(1)**, making this approach efficient.\n",
    "3. Iterating through the list:\n",
    "```\n",
    "for n in nums:\n",
    "```\n",
    "* A `for` loop iterates over each integer `n` in the list `nums`.\n",
    "4. Checking for Duplicates\n",
    "```\n",
    "if n in hashset:\n",
    "    return True\n",
    "```\n",
    "* For each number `n` in the list, the code checks if that number is already in the `hashset`.\n",
    "* If `n` is already in the set, it means a duplicate has been found, and the function returns `True` immediately.\n",
    "5. Adding unique elements to the set:\n",
    "```\n",
    "hashset.add(n)\n",
    "```\n",
    "* If `n` is not in the set, it gets addes to the `hashset`. This ensures that for future iterations, you can detect wehther `n` appears again.\n",
    "6. Returning `False` if no duplicates:\n",
    "```\n",
    "return False\n",
    "```\n",
    "* If the loop completes without finding any duplicates, the function returns `False`.\n"
   ]
  },
  {
   "cell_type": "markdown",
   "metadata": {},
   "source": [
    "### Example Walkthrough\n",
    "Suppose the input list is:\n",
    "```\n",
    "nums = [1, 2, 3, 4, 5, 2]\n",
    "```\n",
    "* The hashset starts as an empty set.\n",
    "* The loop iterates over each number:\n",
    "    * 1 is not in hashset, so it's added to the set (hashset = {1}).\n",
    "    * 2 is not in hashset, so it's added to the set (hashset = {1, 2}).\n",
    "    * 3 is not in hashset, so it's added to the set (hashset = {1, 2, 3}).\n",
    "    * 4 is not in hashset, so it's added to the set (hashset = {1, 2, 3, 4}).\n",
    "    * 5 is not in hashset, so it's added to the set (hashset = {1, 2, 3, 4, 5}).\n",
    "    * The second occurrence of 2 is found in hashset, so the function returns True because a duplicate is detected.\n",
    "\n",
    "#### Time Complexity\n",
    "* The time complexity of this approach is O(n), where 𝑛 is the length of the list. This is because:\n",
    "    * Inserting into a set and checking membership in a set both have an average time complexity of O(1).\n",
    "    * You only need to loop through the list once.\n",
    "\n",
    "#### Space Complexity\n",
    "* The space complexity is O(n) because, in the worst case (if there are no duplicates), the set will contain all 𝑛 elements of the input list.\n",
    "\n",
    "#### Summary\n",
    "This code efficiently checks for duplicates in a list by using a set to store elements that have been seen. If any element is found in the set during iteration, a duplicate exists, and the function returns True. Otherwise, it returns False after completing the loop."
   ]
  }
 ],
 "metadata": {
  "kernelspec": {
   "display_name": "Python 3",
   "language": "python",
   "name": "python3"
  },
  "language_info": {
   "codemirror_mode": {
    "name": "ipython",
    "version": 3
   },
   "file_extension": ".py",
   "mimetype": "text/x-python",
   "name": "python",
   "nbconvert_exporter": "python",
   "pygments_lexer": "ipython3",
   "version": "3.12.0"
  }
 },
 "nbformat": 4,
 "nbformat_minor": 2
}
